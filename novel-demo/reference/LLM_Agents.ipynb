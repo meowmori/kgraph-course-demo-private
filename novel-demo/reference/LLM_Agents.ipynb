{
 "cells": [
  {
   "cell_type": "markdown",
   "metadata": {
    "id": "pxdIOPJVKUy_"
   },
   "source": [
    "# 配置环境"
   ]
  },
  {
   "cell_type": "code",
   "execution_count": 2,
   "metadata": {
    "id": "OoOrE1bfNqk0"
   },
   "outputs": [
    {
     "name": "stdout",
     "output_type": "stream",
     "text": [
      "^C\n"
     ]
    },
    {
     "name": "stderr",
     "output_type": "stream",
     "text": [
      "  error: subprocess-exited-with-error\n",
      "  \n",
      "  × Building wheel for chroma-hnswlib (pyproject.toml) did not run successfully.\n",
      "  │ exit code: 1\n",
      "  ╰─> [5 lines of output]\n",
      "      running bdist_wheel\n",
      "      running build\n",
      "      running build_ext\n",
      "      building 'hnswlib' extension\n",
      "      error: Microsoft Visual C++ 14.0 or greater is required. Get it with \"Microsoft C++ Build Tools\": https://visualstudio.microsoft.com/visual-cpp-build-tools/\n",
      "      [end of output]\n",
      "  \n",
      "  note: This error originates from a subprocess, and is likely not a problem with pip.\n",
      "  ERROR: Failed building wheel for chroma-hnswlib\n",
      "ERROR: ERROR: Failed to build installable wheels for some pyproject.toml based projects (chroma-hnswlib)\n"
     ]
    }
   ],
   "source": [
    "!pip install -i https://pypi.tuna.tsinghua.edu.cn/simple openai langchain langchain-openai langchain-chroma -q"
   ]
  },
  {
   "cell_type": "markdown",
   "metadata": {
    "id": "kySuEzbzKjE9"
   },
   "source": [
    "# 尝试通过Python和GPT进行单论对话"
   ]
  },
  {
   "cell_type": "code",
   "execution_count": null,
   "metadata": {
    "id": "SOaRiXG4N7HZ"
   },
   "outputs": [],
   "source": [
    "from openai import OpenAI\n",
    "import os\n",
    "\n",
    "## 设置API\n",
    "api_key = \"sk-53b7201e936b457d8802a9f5ca3605b4\"\n",
    "base_url = \"https://dashscope.aliyuncs.com/compatible-mode/v1\"\n",
    "os.environ[\"OPENAI_API_KEY\"] = api_key\n",
    "\n",
    "\n",
    "client = OpenAI(api_key=api_key, base_url=base_url)"
   ]
  },
  {
   "cell_type": "code",
   "execution_count": null,
   "metadata": {
    "id": "NYst0iY8N9fD"
   },
   "outputs": [],
   "source": [
    "def chat_with_gpt(prompt):\n",
    "    response = client.chat.completions.create(\n",
    "        messages=[\n",
    "            {\"role\": \"system\", \"content\": \"You are a helpful assistant.\"},\n",
    "            {\"role\": \"user\", \"content\": prompt},\n",
    "        ],\n",
    "        model=\"qwen-max\",\n",
    "    )\n",
    "    return response.choices[0].message.content"
   ]
  },
  {
   "cell_type": "code",
   "execution_count": null,
   "metadata": {
    "colab": {
     "base_uri": "https://localhost:8080/"
    },
    "id": "FXiYxmJhOMBF",
    "outputId": "8d374356-31fb-4f29-8dba-2d65efd73615"
   },
   "outputs": [
    {
     "name": "stdout",
     "output_type": "stream",
     "text": [
      "I am Qwen, a large language model created by Alibaba Cloud. I work as an AI assistant to help users with various tasks, such as answering questions, writing stories, composing emails, expressing opinions, answering questions, playing games, etc.\n"
     ]
    }
   ],
   "source": [
    "# 替换prompt的字符串，与GPT完成单次对话\n",
    "prompt = \"###### Who are you? ######\"\n",
    "\n",
    "response = chat_with_gpt(prompt)\n",
    "print(response)"
   ]
  },
  {
   "cell_type": "markdown",
   "metadata": {
    "id": "sMxpzqy8KqlK"
   },
   "source": [
    "## 尝试多轮对话"
   ]
  },
  {
   "cell_type": "code",
   "execution_count": null,
   "metadata": {
    "id": "irm_zRRTil0S"
   },
   "outputs": [],
   "source": [
    "class Chat_with_mem:\n",
    "    def __init__(self, client):\n",
    "        self.client = client\n",
    "        self.messages = [{\"role\": \"system\", \"content\": \"You are a helpful assistant.\"}]\n",
    "\n",
    "    def chat(self, prompt):\n",
    "        self.messages.append({\"role\": \"user\", \"content\": prompt})\n",
    "        response = self.client.chat.completions.create(\n",
    "            messages=self.messages,\n",
    "            model=\"qwen-max\",\n",
    "        )\n",
    "        ### 维护对话历史，补全对话函数，GPT的角色role为'assistant' ###\n",
    "\n",
    "        return response\n",
    "\n",
    "    def clear_history(self):\n",
    "        self.messages = [{\"role\": \"system\", \"content\": \"You are a helpful assistant.\"}]"
   ]
  },
  {
   "cell_type": "code",
   "execution_count": null,
   "metadata": {
    "colab": {
     "base_uri": "https://localhost:8080/"
    },
    "id": "SpCyKkn8j9TP",
    "outputId": "42ce334e-c081-4876-9186-d02638150528"
   },
   "outputs": [
    {
     "name": "stdout",
     "output_type": "stream",
     "text": [
      "Chat with GPT. Type 'exit' to end the conversation. Type 'clear' to refresh chat history\n",
      "GPT: ChatCompletion(id='chatcmpl-9d14696c-e9cd-972e-9eca-e66cb41eef1f', choices=[Choice(finish_reason='stop', index=0, logprobs=None, message=ChatCompletionMessage(content='我是Qwen，是阿里云开发的一款超大规模语言模型，我被设计用来帮助用户生成各种类型的文本，如文章、故事、诗歌、故事等，并能够根据不同的场景和需求提供有用的信息和帮助。无论是解答问题、提供建议还是参与创造性的思考，我都致力于以最自然、最流畅的方式与用户交流。', refusal=None, role='assistant', audio=None, function_call=None, tool_calls=None))], created=1732188061, model='qwen-max', object='chat.completion', service_tier=None, system_fingerprint=None, usage=CompletionUsage(completion_tokens=74, prompt_tokens=32, total_tokens=106, completion_tokens_details=None, prompt_tokens_details=None))\n",
      "Chat history cleared.\n",
      "GPT: ChatCompletion(id='chatcmpl-54c600f1-b157-96d3-bb88-d4c3a98d249a', choices=[Choice(finish_reason='stop', index=0, logprobs=None, message=ChatCompletionMessage(content='我是Qwen，是阿里云开发的一款超大规模语言模型，我的目标是帮助用户更高效地获取信息、创作内容和娱乐。作为一个AI助手，我可以回答各种问题、提供信息、参与对话等。有什么我可以帮你的吗？', refusal=None, role='assistant', audio=None, function_call=None, tool_calls=None))], created=1732188088, model='qwen-max', object='chat.completion', service_tier=None, system_fingerprint=None, usage=CompletionUsage(completion_tokens=52, prompt_tokens=32, total_tokens=84, completion_tokens_details=None, prompt_tokens_details=None))\n",
      "GPT: ChatCompletion(id='chatcmpl-ea95a18d-0308-902a-bf85-3309b9042d59', choices=[Choice(finish_reason='stop', index=0, logprobs=None, message=ChatCompletionMessage(content='你好！我是Qwen，由阿里云开发的预训练语言模型。我的设计目的是为了帮助用户生成各类文本，如文章、故事、诗歌、故事等，并能够根据不同的场景和需求提供信息查询、对话聊天等服务。有什么我可以帮你的吗？', refusal=None, role='assistant', audio=None, function_call=None, tool_calls=None))], created=1732188104, model='qwen-max', object='chat.completion', service_tier=None, system_fingerprint=None, usage=CompletionUsage(completion_tokens=57, prompt_tokens=34, total_tokens=91, completion_tokens_details=None, prompt_tokens_details=None))\n",
      "GPT: ChatCompletion(id='chatcmpl-6290e5b9-9831-95bf-ba53-81ecc20c6bdb', choices=[Choice(finish_reason='stop', index=0, logprobs=None, message=ChatCompletionMessage(content='你好！\\n\\n我是Qwen，是阿里云研发的大规模语言模型。关于在阿里云百炼上使用我的API是否需要付费的问题，通常情况下，阿里云提供的服务可能会有一定的免费额度，超过这个额度后会根据实际使用情况进行计费。具体的费用标准和是否有免费试用等信息，请参考阿里云官方网站上的最新公告或直接联系阿里云客服获取最准确的信息。希望这对你有所帮助！', refusal=None, role='assistant', audio=None, function_call=None, tool_calls=None))], created=1732188159, model='qwen-max', object='chat.completion', service_tier=None, system_fingerprint=None, usage=CompletionUsage(completion_tokens=88, prompt_tokens=47, total_tokens=135, completion_tokens_details=None, prompt_tokens_details=None))\n"
     ]
    }
   ],
   "source": [
    "# 启动交互式对话！\n",
    "print(\n",
    "    \"Chat with GPT. Type 'exit' to end the conversation. Type 'clear' to refresh chat history\"\n",
    ")\n",
    "chat_with_mem = Chat_with_mem(client)\n",
    "while True:\n",
    "    user_input = input(\"You: \")\n",
    "    if user_input.lower() == \"exit\":\n",
    "        break\n",
    "    if user_input.lower() == \"clear\":\n",
    "        chat_with_mem.clear_history()\n",
    "        print(\"Chat history cleared.\")\n",
    "        continue\n",
    "    response = chat_with_mem.chat(user_input)\n",
    "    print(f\"GPT: {response}\")"
   ]
  },
  {
   "cell_type": "markdown",
   "metadata": {
    "id": "CTbchhZQZzl4"
   },
   "source": [
    "## 引入新的第三方库，了解Langchain中的链条组件及LCEL表达式语法"
   ]
  },
  {
   "cell_type": "code",
   "execution_count": null,
   "metadata": {
    "colab": {
     "base_uri": "https://localhost:8080/"
    },
    "id": "-zI2oTL0Z-uM",
    "outputId": "f049c115-02b1-44b0-eda4-d58a1664c64a"
   },
   "outputs": [
    {
     "data": {
      "text/plain": [
       "AIMessage(content='你好！有什么可以帮助你的吗？', additional_kwargs={'refusal': None}, response_metadata={'token_usage': {'completion_tokens': 7, 'prompt_tokens': 9, 'total_tokens': 16, 'completion_tokens_details': None, 'prompt_tokens_details': None}, 'model_name': 'qwen-max', 'system_fingerprint': None, 'finish_reason': 'stop', 'logprobs': None}, id='run-58eef584-2d0f-4058-865a-87f08758fdc1-0', usage_metadata={'input_tokens': 9, 'output_tokens': 7, 'total_tokens': 16, 'input_token_details': {}, 'output_token_details': {}})"
      ]
     },
     "execution_count": 4,
     "metadata": {},
     "output_type": "execute_result"
    }
   ],
   "source": [
    "from langchain_openai import ChatOpenAI\n",
    "\n",
    "# 声明一个Langchain中的大语言模型\n",
    "llm = ChatOpenAI(api_key=api_key, base_url=base_url, model_name=\"qwen-max\")\n",
    "\n",
    "# Langchain链路中的各个组件都可以使用.invoke()方法调用\n",
    "# 直接传入输入会发生什么？\n",
    "llm.invoke(\"你好\")"
   ]
  },
  {
   "cell_type": "code",
   "execution_count": null,
   "metadata": {
    "colab": {
     "base_uri": "https://localhost:8080/",
     "height": 39
    },
    "id": "P2gNJQjSadNV",
    "outputId": "d352fc58-d619-4676-ef0e-6a1d4d30cf0e"
   },
   "outputs": [
    {
     "data": {
      "text/plain": [
       "'“正常”的反义词可以是“异常”或“不正常”。这两个词都用来描述不符合常规、标准或者预期状态的情况。根据具体的语境，选择使用哪一个可能更合适。例如，在医学报告中，我们可能会看到用“异常”来描述某些检查结果；而在日常对话中，人们可能会更常用“不正常”这个词。'"
      ]
     },
     "execution_count": 5,
     "metadata": {},
     "output_type": "execute_result"
    }
   ],
   "source": [
    "# 我们观察到使用ChatOpenAI方法声明的模型已经内嵌了上一个小节中完成的对话格式实现\n",
    "# 但其输出并不是直接可以使用的字符串格式\n",
    "\n",
    "from langchain_core.output_parsers import StrOutputParser\n",
    "\n",
    "# 先执行前者，结果传递给后者\n",
    "chat_chain = llm | StrOutputParser()\n",
    "chat_chain.invoke(\"正常的反义词是什么？\")"
   ]
  },
  {
   "cell_type": "code",
   "execution_count": null,
   "metadata": {
    "colab": {
     "base_uri": "https://localhost:8080/",
     "height": 39
    },
    "id": "VEZk4hFbbLKr",
    "outputId": "80e27592-405b-481f-9344-dfed72b49709"
   },
   "outputs": [
    {
     "data": {
      "text/plain": [
       "'“正常”的反义词可以是“异常”或“不正常”。这两个词都用来表示与常规、标准或预期状态不符的情况。根据具体的语境，选择使用哪一个可能更为合适。例如，在医学报告中更倾向于使用“异常”，而在日常对话中可能会更自然地使用“不正常”。'"
      ]
     },
     "execution_count": 6,
     "metadata": {},
     "output_type": "execute_result"
    }
   ],
   "source": [
    "# 利用LLM实现某种特定功能，但每次输入完整query十分繁琐\n",
    "\n",
    "from langchain.prompts import PromptTemplate\n",
    "\n",
    "# Template\n",
    "# 例如：\"翻译：{query}\"\n",
    "# 在后续步骤中将'星期一'作为query输入，模板将变为：\"翻译：星期一\"\n",
    "\n",
    "test_template = \"{query}的反义词是什么？\"\n",
    "test_prompt = PromptTemplate(template=test_template, input_variables=[\"query\"])\n",
    "\n",
    "test_chain = test_prompt | llm | StrOutputParser()\n",
    "test_chain.invoke({\"query\": \"正常\"})"
   ]
  },
  {
   "cell_type": "markdown",
   "metadata": {
    "id": "4NyS2l3IKxzr"
   },
   "source": [
    "# 来设计一个简单的翻译器吧！\n",
    "使用刚刚学会的Langchain包装一个功能简单的翻译智能体Agent\n",
    "\n",
    "## 功能\n",
    "\n",
    "完成中英文互译\n",
    "\n",
    "## 示例\n",
    "\n",
    "### 输入\n",
    "- 大语言模型是一种具有较大参数量级（通常为数亿甚至上千亿）的深度学习语言模型，其使用自监督学习或半监督学习对大量未标记文本进行训练从而完成对自然语言的建模。\n",
    "\n",
    "- People lack willpower, rather than strength.\n",
    "\n",
    "### 输出\n",
    "\n",
    "- Large language models are a type of deep learning language model with a large number of parameters (usually in the billions or even trillions), which are trained on a large amount of unlabeled text using self-supervised learning or semi-supervised learning to model natural language.\n",
    "\n",
    "- 人们往往缺乏毅力，而非实力。\n",
    "\n"
   ]
  },
  {
   "cell_type": "code",
   "execution_count": null,
   "metadata": {
    "colab": {
     "base_uri": "https://localhost:8080/"
    },
    "id": "dOFrakzDOPi0",
    "outputId": "ff00830b-c239-4c28-d415-c0d19f1e8de2"
   },
   "outputs": [
    {
     "name": "stdout",
     "output_type": "stream",
     "text": [
      "这句话“People lack willpower, rather than strength.”的意思是人们缺乏的是意志力，而不是体力。其反义可以表达为人们并不缺乏意志力，他们缺少的是体力。用英语可以这样表述：“People lack strength, rather than willpower.”\n",
      "\n",
      "这样就改变了原句的重点，从强调缺乏意志力转变成了强调缺乏体力。\n"
     ]
    }
   ],
   "source": [
    "from langchain_openai import ChatOpenAI\n",
    "from langchain_core.output_parsers import StrOutputParser\n",
    "from langchain.prompts import PromptTemplate\n",
    "\n",
    "llm = ChatOpenAI(api_key=api_key, base_url=base_url, model_name=\"qwen-max\")\n",
    "\n",
    "\n",
    "###  设计一个prompt\n",
    "# 设计能指示LLM完成中英文互译的提示词，完成translator_template，{*}形式在langchain的template对象中作为占位符替换使用\n",
    "\n",
    "translator_template = \"设想你是一位优秀的中英文翻译官，请协助我完成中英文互译！\"\n",
    "translator_prompt = PromptTemplate(\n",
    "    template=translator_template, input_variables=[\"query\"]\n",
    ")\n",
    "\n",
    "\n",
    "# 参考刚刚学习的内容，书写LCEL表达式构建最简单的智能体链条\n",
    "translator_chain = test_prompt | llm | StrOutputParser()\n",
    "\n",
    "# 试试你的Agent\n",
    "query_input = \"大语言模型是一种具有较大参数量级（通常为数亿甚至上千亿）的深度学习语言模型，其使用自监督学习或半监督学习对大量未标记文本进行训练从而完成对自然语言的建模。\"\n",
    "query_input = \"People lack willpower, rather than strength.\"\n",
    "result = translator_chain.invoke({\"query\": query_input})\n",
    "print(result)"
   ]
  },
  {
   "cell_type": "markdown",
   "metadata": {
    "id": "RaDnjz3Eb7aP"
   },
   "source": [
    "# 利⽤LLM，从头开始构建⼀个医疗报告⽣成机器人！\n",
    "## 报告内容\n",
    "`结构化的报告信息`、`对诊疗过程的总结概要`、`诊疗中出现的疾病、药物等专业概念的相关信息`\n",
    "\n",
    "<br>\n",
    "\n",
    "## Agent 1 结构化信息抽取助手\n",
    "利用LLM基于对话抽取其中的结构化医学信息\n",
    "\n",
    "<br>\n",
    "\n",
    "## Agent 2 诊疗总结助手\n",
    "利用LLM总结对话中呈现的诊疗过程\n",
    "\n",
    "<br>\n",
    "\n",
    "## Agent 3 参考资料查询助手\n",
    "基于诊疗过程中涉及的专业知识概念生成检索问题，在知识库中检索相关信息作为参考资料"
   ]
  },
  {
   "cell_type": "markdown",
   "metadata": {
    "id": "6Zsp_i1lMYez"
   },
   "source": [
    "## *结构化信息抽取助手*\n",
    "### 输入\n",
    "```plain tex\n",
    "患者：宝宝6个月，从昨天开始就清鼻涕，前天从晚上11点吃了奶粉以后，到第二...\n",
    "医生：宝贝现在精神状态怎么样？咳嗽，发烧，拉肚子不\n",
    "患者：精神还好，肚子还涨\n",
    "  ... ...\n",
    "```\n",
    "### 输出\n",
    "```json\n",
    "{\n",
    "                \"主诉\": \"流涕2天\",\n",
    "                \"现病史\": \"患儿出现流涕2天，清水样鼻涕，量多，伴腹胀，大便3天1次，无咳嗽、发热，食欲较差。\",\n",
    "                \"辅助检查\": \"无\",\n",
    "                \"既往史\": \"无\",\n",
    "                \"诊断\": \"上呼吸道感染\",\n",
    "                \"建议\": \"口服感冒药和健脾开胃药调节，鼻涕多口服伪麻美芬滴剂，用生理海水喷雾剂喷鼻腔缓解鼻塞。\"\n",
    "}\n",
    "```"
   ]
  },
  {
   "cell_type": "code",
   "execution_count": null,
   "metadata": {
    "id": "RyR0TiOGxGYZ"
   },
   "outputs": [],
   "source": [
    "import json\n",
    "\n",
    "with open(\"samples.json\", \"r\", encoding=\"utf-8\") as f:\n",
    "    samples = json.load(f)"
   ]
  },
  {
   "cell_type": "markdown",
   "metadata": {
    "id": "flTEig4XO9PV"
   },
   "source": [
    "**处理对话字符串**"
   ]
  },
  {
   "cell_type": "code",
   "execution_count": 15,
   "metadata": {
    "id": "f_nzVDAccPih"
   },
   "outputs": [],
   "source": [
    "def trans_dial(dialogue):\n",
    "    text = \"\"\n",
    "    for round in dialogue:\n",
    "        if round[\"role\"] == \"医生\":\n",
    "            text += \"医生：\"\n",
    "        else:\n",
    "            text += \"患者：\"\n",
    "        text += round[\"content\"]\n",
    "        text += \"\\n\"\n",
    "    return text"
   ]
  },
  {
   "cell_type": "markdown",
   "metadata": {
    "id": "c07wu9UJPQe3"
   },
   "source": [
    "**设计调试Prompt**"
   ]
  },
  {
   "cell_type": "code",
   "execution_count": 22,
   "metadata": {
    "colab": {
     "base_uri": "https://localhost:8080/"
    },
    "id": "8hfgl1mDxQGQ",
    "outputId": "16521b67-4923-4845-b0d0-5fad1a3e5352"
   },
   "outputs": [
    {
     "ename": "SyntaxError",
     "evalue": "invalid syntax. Perhaps you forgot a comma? (791661390.py, line 13)",
     "output_type": "error",
     "traceback": [
      "\u001b[1;36m  Cell \u001b[1;32mIn[22], line 13\u001b[1;36m\u001b[0m\n\u001b[1;33m    input_variables = [\"dialogue\"]\u001b[0m\n\u001b[1;37m                      ^\u001b[0m\n\u001b[1;31mSyntaxError\u001b[0m\u001b[1;31m:\u001b[0m invalid syntax. Perhaps you forgot a comma?\n"
     ]
    }
   ],
   "source": [
    "from langchain_core.output_parsers import StrOutputParser, JsonOutputParser\n",
    "\n",
    "# 按照要求设计prompt，对话占位符使用{dialogue}\n",
    "structured_extract_template_str = \"\"\" 设想你是一位专业且乐于助人的医生，请根据我提出的医疗相关问题给出医疗报告，报告需要输出如下格式的结构化信息：\n",
    "                \"主诉\":,\n",
    "                \"现病史\":,\n",
    "                \"辅助检查\":,\n",
    "                \"既往史\":,\n",
    "                \"诊断\":,\n",
    "                \"建议\":\"\"\"\n",
    "\n",
    "structured_extract_template = PromptTemplate(\n",
    "    input_variables = [\"dialogue\"]\n",
    "    template=structured_extract_template_str,\n",
    "    verbose=True\n",
    ")\n",
    "\n",
    "\n",
    "structured_extract_chain = structured_extract_template | llm | StrOutputParser()\n",
    "\n",
    "dialogue_text = trans_dial(samples[\"test_sample\"][\"dialogue\"])\n",
    "\n",
    "structured = structured_extract_chain.invoke({\"dialogue\": dialogue_text})\n",
    "print(structured)"
   ]
  },
  {
   "cell_type": "markdown",
   "metadata": {
    "id": "W976bW68Ushs"
   },
   "source": [
    "**试试Few-shot**（可选）"
   ]
  },
  {
   "cell_type": "code",
   "execution_count": null,
   "metadata": {
    "colab": {
     "base_uri": "https://localhost:8080/",
     "height": 186
    },
    "id": "KrE11Y-iTr8i",
    "outputId": "854038bd-0f45-468a-8252-bc15b8fc0705"
   },
   "outputs": [
    {
     "data": {
      "application/vnd.google.colaboratory.intrinsic+json": {
       "type": "string"
      },
      "text/plain": [
       "'样例1\\n医生：你好，很高兴为您服务。\\n医生：为了更好的提供服务，我需要询问您几个与病症相关的问题，感谢您配合。\\n患者：好的\\n医生：现在咳嗽还重吗？\\n患者：现在孩子说有痰咳不出来，\\n医生：检查过吗？用的什么药治疗？\\n医生：是输液治疗的吗？\\n患者：是的！检查病菌和病毒，之前三天用的是阿奇，和止咳化痰的！后四天用的是头炮和痰热清\\n医生：查肺炎支原体抗体了吗？\\n患者：那没有\\n医生：血常规查了吗？\\n医生：拍胸片了吗？\\n患者：查了，说俩种病毒都感染了\\n患者：没有，\\n患者：去年得过一回，这些检查都做了，用的也是头炮和止咳化痰的\\n医生：如果用药效果不好的话，建议去医院与临床医生沟通查肺炎支原体抗体，看看是不是肺炎支原体感染\\n患者：如果要是肺炎支原体感染的话，那应该用什么药呢\\n医生：支原体感染好的慢，要按疗程用药，用阿奇霉素这一类的药\\n患者：好的谢谢\\n医生：要在临床医生的指导下用药\\n患者：好的\\n医生：诊断明确，治疗效果才好，孩子才能早日康复\\n报告：\\n{\\n    \"主诉\": \"咳嗽。\",\\n    \"现病史\": \"患者出现咳嗽，伴咳痰，去医院行血常规检查提示病毒感染，口服阿奇霉素、止咳化痰的药物、头孢和痰热清等药物治疗。\",\\n    \"辅助检查\": \"血常规-病毒感染。\",\\n    \"既往史\": \"无。\",\\n    \"诊断\": \"支气管炎。\",\\n    \"建议\": \"医院就诊查支原体抗体，若肺炎支原体感染，采用阿奇霉素这一类的药治疗。\"\\n}\\n\\n样例2\\n医生：你好\\n患者：您好\\n医生：请问宝宝多大了？\\n患者：11个月了\\n医生：症状出现多久了？\\n患者：3天了，宝宝不发烧，精神也挺好，就是流鼻涕，鼻塞，今天孩伴有咳嗽\\n医生：流的是清鼻涕吗？\\n患者：开始鼻涕很黏，今天流清鼻涕了\\n医生：咳嗽时有痰音吗？\\n患者：有\\n医生：化验血了吗？\\n患者：没有，第一个医生听了听就叫打针\\n患者：说打一周\\n医生：那后来这个医生开了什么药？\\n患者：鲜竹沥和复方福尔可定口服溶液，还有一种药粉，没名\\n医生：孩子病程比较短，症状也不太严重，可以先口服这些药物，三天看有没有效果。\\n患者：后边这个医生说在严重的话过去他再给调药\\n医生：是的\\n患者：只要不发烧，先吃这些药就行是吧，\\n医生：是\\n患者：谢谢\\n报告：\\n{\\n    \"主诉\": \"流涕3天。\",\\n    \"现病史\": \"患儿3天前出现流涕，鼻塞，今日出现咳嗽，无发热。服用鲜竹沥和复方福尔可定。\",\\n    \"辅助检查\": \"暂缺。\",\\n    \"既往史\": \"不详。\",\\n    \"诊断\": \"支气管炎。\",\\n    \"建议\": \"继续服用当前药物3天后观察病情变化。\"\\n}'"
      ]
     },
     "execution_count": 161,
     "metadata": {},
     "output_type": "execute_result"
    }
   ],
   "source": [
    "# 按照你所希望的输出格式定义一个格式化函数，将结构化信息转换为可输入模型的字符串\n",
    "def trans_few_shot_output(report):\n",
    "    pass\n",
    "\n",
    "\n",
    "# 补全以下代码\n",
    "def get_few_shot_text(samples):\n",
    "    text = \"\"\n",
    "    for i, item in enumerate(samples):\n",
    "        text += f\"样例{i+1}：\\n\"\n",
    "        # 补全代码，附加样例对话记录及输出结果\n",
    "    return text\n",
    "\n",
    "\n",
    "get_few_shot_text(samples[\"few_shot_sample\"])"
   ]
  },
  {
   "cell_type": "code",
   "execution_count": 23,
   "metadata": {
    "colab": {
     "base_uri": "https://localhost:8080/"
    },
    "id": "3yRa9wr1TwQ5",
    "outputId": "c92231ed-d48e-4bfe-b11c-b3e63c3153cb"
   },
   "outputs": [
    {
     "ename": "NameError",
     "evalue": "name 'get_few_shot_text' is not defined",
     "output_type": "error",
     "traceback": [
      "\u001b[1;31m---------------------------------------------------------------------------\u001b[0m",
      "\u001b[1;31mNameError\u001b[0m                                 Traceback (most recent call last)",
      "Cell \u001b[1;32mIn[23], line 15\u001b[0m\n\u001b[0;32m      4\u001b[0m fewshot_structured_extract_template \u001b[38;5;241m=\u001b[39m PromptTemplate(\n\u001b[0;32m      5\u001b[0m     input_variables\u001b[38;5;241m=\u001b[39m[\u001b[38;5;124m\"\u001b[39m\u001b[38;5;124mfew_shot\u001b[39m\u001b[38;5;124m\"\u001b[39m, \u001b[38;5;124m\"\u001b[39m\u001b[38;5;124mdialogue\u001b[39m\u001b[38;5;124m\"\u001b[39m],\n\u001b[0;32m      6\u001b[0m     template\u001b[38;5;241m=\u001b[39mfewshot_structured_extract_template_str,\n\u001b[0;32m      7\u001b[0m     verbose\u001b[38;5;241m=\u001b[39m\u001b[38;5;28;01mTrue\u001b[39;00m,\n\u001b[0;32m      8\u001b[0m )\n\u001b[0;32m     11\u001b[0m fewshot_structured_extract_chain \u001b[38;5;241m=\u001b[39m (\n\u001b[0;32m     12\u001b[0m     fewshot_structured_extract_template \u001b[38;5;241m|\u001b[39m llm \u001b[38;5;241m|\u001b[39m JsonOutputParser()\n\u001b[0;32m     13\u001b[0m )\n\u001b[1;32m---> 15\u001b[0m few_shot_text \u001b[38;5;241m=\u001b[39m \u001b[43mget_few_shot_text\u001b[49m(samples[\u001b[38;5;124m\"\u001b[39m\u001b[38;5;124mfew_shot_sample\u001b[39m\u001b[38;5;124m\"\u001b[39m])\n\u001b[0;32m     16\u001b[0m dialogue_text \u001b[38;5;241m=\u001b[39m trans_dial(samples[\u001b[38;5;124m\"\u001b[39m\u001b[38;5;124mtest_sample\u001b[39m\u001b[38;5;124m\"\u001b[39m][\u001b[38;5;124m\"\u001b[39m\u001b[38;5;124mdialogue\u001b[39m\u001b[38;5;124m\"\u001b[39m])\n\u001b[0;32m     18\u001b[0m structured \u001b[38;5;241m=\u001b[39m fewshot_structured_extract_chain\u001b[38;5;241m.\u001b[39minvoke(\n\u001b[0;32m     19\u001b[0m     {\u001b[38;5;124m\"\u001b[39m\u001b[38;5;124mfew_shot\u001b[39m\u001b[38;5;124m\"\u001b[39m: few_shot_text, \u001b[38;5;124m\"\u001b[39m\u001b[38;5;124mdialogue\u001b[39m\u001b[38;5;124m\"\u001b[39m: dialogue_text}\n\u001b[0;32m     20\u001b[0m )\n",
      "\u001b[1;31mNameError\u001b[0m: name 'get_few_shot_text' is not defined"
     ]
    }
   ],
   "source": [
    "# 在zero-shot promplt的基础上修改得到few-shot模板，few_shot样例占位符使用{few_shot}\n",
    "fewshot_structured_extract_template_str = \"\"\" \"\"\"\n",
    "\n",
    "fewshot_structured_extract_template = PromptTemplate(\n",
    "    input_variables=[\"few_shot\", \"dialogue\"],\n",
    "    template=fewshot_structured_extract_template_str,\n",
    "    verbose=True,\n",
    ")\n",
    "\n",
    "\n",
    "fewshot_structured_extract_chain = (\n",
    "    fewshot_structured_extract_template | llm | JsonOutputParser()\n",
    ")\n",
    "\n",
    "few_shot_text = get_few_shot_text(samples[\"few_shot_sample\"])\n",
    "dialogue_text = trans_dial(samples[\"test_sample\"][\"dialogue\"])\n",
    "\n",
    "structured = fewshot_structured_extract_chain.invoke(\n",
    "    {\"few_shot\": few_shot_text, \"dialogue\": dialogue_text}\n",
    ")\n",
    "print(structured)"
   ]
  },
  {
   "cell_type": "markdown",
   "metadata": {
    "id": "gcJ0U1BgOU4L"
   },
   "source": [
    "## *诊疗总结助手*\n",
    "### 输入\n",
    "```plain tex\n",
    "患者：宝宝6个月，从昨天开始就清鼻涕，前天从晚上11点吃了奶粉以后，到第二...\n",
    "医生：宝贝现在精神状态怎么样？咳嗽，发烧，拉肚子不\n",
    "患者：精神还好，肚子还涨\n",
    "  ... ...\n",
    "```\n",
    "### 输出\n",
    "```plain text\n",
    "6个月大的宝宝从前天开始出现食欲减退的症状，前天晚上11点后到第二天早上9点未进食奶粉，昨天晚上9点后至今再次出现不进食的情况。\n",
    "同时，宝宝开始流鼻涕，但精神状态尚可，没有发热和咳嗽的症状，大便次数为每三天一次，显得有些便秘。鼻涕较多但无颜色。\n",
    "医生初步判断宝宝可能是感冒引起的食欲不振。医生建议可以给宝宝服用感冒药和健脾开胃药作为调节。具体药物方案为伪麻美芬滴剂以缓解鼻涕过多的症状，同时用生理海水喷雾剂来缓解鼻塞，结合健脾开胃药以调节食欲。\n",
    "```"
   ]
  },
  {
   "cell_type": "markdown",
   "metadata": {
    "id": "-DI_9tBtP0hT"
   },
   "source": [
    "**设计调试prompt**"
   ]
  },
  {
   "cell_type": "code",
   "execution_count": null,
   "metadata": {
    "colab": {
     "base_uri": "https://localhost:8080/"
    },
    "id": "WC33-6fP4NtD",
    "outputId": "24fdb9c2-eed5-46fe-93cb-15dc1f99c47b"
   },
   "outputs": [
    {
     "name": "stdout",
     "output_type": "stream",
     "text": [
      "您好！看起来您的消息可能没有发送完整。您需要帮助解决什么问题或讨论什么话题呢？请告诉我更多的细节，我会尽力提供帮助。\n"
     ]
    }
   ],
   "source": [
    "# 按照要求设计prompt，对话占位符使用{dialogue}\n",
    "summary_template_str = \"\"\" \"\"\"\n",
    "\n",
    "summary_template = PromptTemplate(\n",
    "    input_variables=[\"dialogue\"], template=summary_template_str\n",
    ")\n",
    "\n",
    "\n",
    "summary_chain = summary_template | llm | StrOutputParser()\n",
    "\n",
    "summary = summary_chain.invoke({\"dialogue\": dialogue_text})\n",
    "print(summary)"
   ]
  },
  {
   "cell_type": "markdown",
   "metadata": {
    "id": "bO4mS8xLPZyu"
   },
   "source": [
    "## *参考资料查询助手*\n",
    "\n",
    "### 输入\n",
    "```plain tex\n",
    "患者：宝宝6个月，从昨天开始就清鼻涕，前天从晚上11点吃了奶粉以后，到第二...\n",
    "医生：宝贝现在精神状态怎么样？咳嗽，发烧，拉肚子不\n",
    "患者：精神还好，肚子还涨\n",
    "  ... ...\n",
    "```\n",
    "### 输出\n",
    "\n",
    "#### 子任务一：\n",
    "生成检索语句\n",
    "```plain text\n",
    "1. 什么是感冒？\n",
    "2. 什么是健脾开胃药？\n",
    "3. 伪麻美芬滴剂是什么药物？\n",
    "```\n",
    "#### 子任务二：\n",
    "检索得到参考文档\n",
    "```plain text\n",
    "'普通感冒是一种累及鼻和咽喉的疾病。大多数情况下，它是无害的，但可能感觉不是这样。称为病毒的病菌可引起普通感冒。\\n通常，成人每年可能会患两到三次感冒。婴幼儿可能会更频繁地感冒。\\n大多数人患普通感冒后会在 7 天至 10 天内痊愈。吸烟者的症状可能会持续更久。大多数情况下，普通感冒无需医疗护理。如果症状没有好转或恶化，联系医务人员。\\n由病菌引起的鼻和咽喉疾病称为上呼吸道感染。对于儿童。大多数儿童普通感冒不需要联系医务人员。'\n",
    "'健脾，中医名词，指健运脾气的一种治法。适用于脾气虚弱，运化无力所致的脘腹胀满、大便溏泄、食欲不振、肢倦乏力等症。常用方药如参苓白术散．香砂六君子汤等。\\n健脾，也是补法之一。亦称补脾、益脾。治疗脾虚、运化功能减弱的方法。用于面色萎黄、疲倦乏力、少气懒言、食欲不振、食后腹胀、大便溏薄，舌淡苔白，脉缓弱等脾气虚弱证候。常用药如党参、莲子、白术、茯苓、山药、薏苡仁等。方如参苓白术散。'\n",
    "'伪麻美沙芬滴剂是专对无发热症状的婴幼儿感冒而配制的，无严重胃肠刺激过敏反应及其他严重副作用。本复方中盐酸伪麻黄碱为拟肾上腺素药可收缩鼻粘膜血管减轻鼻塞症状；氢溴酸右美沙芬为镇咳药通过抑制延髓咳嗽中枢而产生镇咳作用。']\n",
    "```"
   ]
  },
  {
   "cell_type": "markdown",
   "metadata": {
    "id": "PV3G8IlRQJus"
   },
   "source": [
    "**生成检索语句**\n",
    "\n",
    "利用LLM基于诊疗对话生成涉及疾病、药物、症状等专业信息的检索句。\n",
    "\n",
    "由于仅准备了少量演示样本，建议限定生成句子数量不大于三句、问题保持简单直接，可查看`context.json`文件中的参考文档情况\n",
    "\n",
    "<br>\n",
    "*新知识*\n",
    "\n",
    "使用`RunnableLambda`包装自定义函数，并将其加入到Chain链条中"
   ]
  },
  {
   "cell_type": "code",
   "execution_count": 27,
   "metadata": {
    "colab": {
     "base_uri": "https://localhost:8080/"
    },
    "id": "oSLHcgWo9AgU",
    "outputId": "65a7114a-1b6d-4530-f674-9597d7ab55cd"
   },
   "outputs": [
    {
     "name": "stdout",
     "output_type": "stream",
     "text": [
      "感冒是一种常见的呼吸道疾病，通常由多种不同的病毒引起，其中最常见的是鼻病毒。感冒主要影响鼻子和喉咙，但有时也可能影响到肺部或耳朵。其典型症状包括打喷嚏、喉咙痛、鼻塞或流鼻涕、轻微的身体疼痛以及可能的低烧。大多数情况下，感冒的症状会在一周左右自行缓解，不需要特别的治疗。然而，充分休息、多喝水和使用一些对症治疗的方法（如退热药）可以帮助缓解不适感。如果症状严重或者持续时间很长，则应该咨询医生以获得进一步的帮助。\n"
     ]
    }
   ],
   "source": [
    "# 按照要求设计prompt，对话占位符使用{dialogue}\n",
    "query_template_str = \"\"\" 1. 什么是感冒？\"\"\"\n",
    "\n",
    "query_template = PromptTemplate(\n",
    "    input_variables=[\"dialogue\"], template=query_template_str\n",
    ")\n",
    "\n",
    "query_chain = query_template | llm | StrOutputParser()\n",
    "\n",
    "query = query_chain.invoke({\"dialogue\": dialogue_text})\n",
    "print(query)"
   ]
  },
  {
   "cell_type": "code",
   "execution_count": 26,
   "metadata": {
    "colab": {
     "base_uri": "https://localhost:8080/"
    },
    "id": "8yCrciOsFCIq",
    "outputId": "70132b72-c48b-4099-fd1b-efca6036999e"
   },
   "outputs": [
    {
     "name": "stdout",
     "output_type": "stream",
     "text": [
      "None\n"
     ]
    }
   ],
   "source": [
    "from langchain_core.runnables import RunnableLambda\n",
    "\n",
    "\n",
    "# 定义一个函数从大模型输出中分离不同的请求，返回一个字符串列表\n",
    "def split_query(text):\n",
    "    pass\n",
    "\n",
    "\n",
    "# 串联检索句生成流程，自定义函数可使用RunnableLambda包装并加入LCEL链路中\n",
    "split_query_chain = query_chain | RunnableLambda(split_query)\n",
    "\n",
    "query_list = split_query_chain.invoke({\"dialogue\": dialogue_text})\n",
    "print(query_list)"
   ]
  },
  {
   "cell_type": "markdown",
   "metadata": {
    "id": "4uA-UOQlRnHb"
   },
   "source": [
    "**检索器**\n",
    "\n",
    "利用已封装好的`Chroma`和`OpenAIEmbeddings`搭建一个向量检索器！\n",
    "\n",
    "检索器是什么？\n",
    "\n",
    "使用向量表示参考文档 → 使用向量表示查询请求 → 找到最相似的一个\n",
    "\n",
    "<br>\n",
    "\n",
    "- 什么是向量检索?\n",
    "\n",
    "向量检索是一种基于向量相似度计算的数据检索方法。它通过将文本、图像、声音等数据形式转化为向量空间中的向量，在向量空间中搜寻表示向量相似的对象完成匹配检索。在搜索引擎等中应用广泛。\n",
    "\n",
    "- 下面的代码都干了些什么？\n",
    "\n",
    "我们使用一个简单的OpenAIEmebeddings API服务去直接请求参考文本对应的表示向量，并把得到的结果都存在了Chroma这个向量库里，当我有一个想要检索的输入，就再向OpenAIEmebeddings API请求该输入的表示向量，在已经构建好的Chroma向量库的找到最相似的对象并返回结果。\n",
    "\n",
    "\n",
    "![image.png](data:image/png;base64,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)"
   ]
  },
  {
   "cell_type": "code",
   "execution_count": 32,
   "metadata": {
    "id": "3pPL-_85AeXF"
   },
   "outputs": [
    {
     "ename": "TypeError",
     "evalue": "string indices must be integers, not 'str'",
     "output_type": "error",
     "traceback": [
      "\u001b[1;31m---------------------------------------------------------------------------\u001b[0m",
      "\u001b[1;31mTypeError\u001b[0m                                 Traceback (most recent call last)",
      "Cell \u001b[1;32mIn[32], line 7\u001b[0m\n\u001b[0;32m      4\u001b[0m     context \u001b[38;5;241m=\u001b[39m json\u001b[38;5;241m.\u001b[39mload(f)\n\u001b[0;32m      6\u001b[0m \u001b[38;5;66;03m# print(context)\u001b[39;00m\n\u001b[1;32m----> 7\u001b[0m documents \u001b[38;5;241m=\u001b[39m [Document(page_content\u001b[38;5;241m=\u001b[39m\u001b[43mitem\u001b[49m\u001b[43m[\u001b[49m\u001b[38;5;124;43m\"\u001b[39;49m\u001b[38;5;124;43mcontext\u001b[39;49m\u001b[38;5;124;43m\"\u001b[39;49m\u001b[43m]\u001b[49m) \u001b[38;5;28;01mfor\u001b[39;00m item \u001b[38;5;129;01min\u001b[39;00m context]\n",
      "\u001b[1;31mTypeError\u001b[0m: string indices must be integers, not 'str'"
     ]
    }
   ],
   "source": [
    "from langchain_core.documents import Document\n",
    "\n",
    "with open(\"samples.json\", \"r\", encoding=\"utf-8\") as f:\n",
    "    context = json.load(f)\n",
    "\n",
    "# print(context)\n",
    "documents = [Document(page_content=item[\"context\"]) for item in context]"
   ]
  },
  {
   "cell_type": "code",
   "execution_count": 33,
   "metadata": {},
   "outputs": [
    {
     "ename": "SyntaxError",
     "evalue": "invalid syntax (61317764.py, line 6)",
     "output_type": "error",
     "traceback": [
      "\u001b[1;36m  Cell \u001b[1;32mIn[33], line 6\u001b[1;36m\u001b[0m\n\u001b[1;33m    documents =\u001b[0m\n\u001b[1;37m                ^\u001b[0m\n\u001b[1;31mSyntaxError\u001b[0m\u001b[1;31m:\u001b[0m invalid syntax\n"
     ]
    }
   ],
   "source": [
    "# 若参考文档为txt形式，一行为一个条目\n",
    "with open(\"context.txt\") as f:\n",
    "    context_lines = f.readlines()\n",
    "\n",
    "# 试想如何得到如上的documents？\n",
    "documents = "
   ]
  },
  {
   "cell_type": "markdown",
   "metadata": {},
   "source": [
    "*构建检索器*"
   ]
  },
  {
   "cell_type": "code",
   "execution_count": 34,
   "metadata": {
    "id": "Dc86sE5ZBfPD"
   },
   "outputs": [
    {
     "ename": "ModuleNotFoundError",
     "evalue": "No module named 'langchain_chroma'",
     "output_type": "error",
     "traceback": [
      "\u001b[1;31m---------------------------------------------------------------------------\u001b[0m",
      "\u001b[1;31mModuleNotFoundError\u001b[0m                       Traceback (most recent call last)",
      "Cell \u001b[1;32mIn[34], line 1\u001b[0m\n\u001b[1;32m----> 1\u001b[0m \u001b[38;5;28;01mfrom\u001b[39;00m \u001b[38;5;21;01mlangchain_chroma\u001b[39;00m \u001b[38;5;28;01mimport\u001b[39;00m Chroma\n\u001b[0;32m      2\u001b[0m \u001b[38;5;28;01mfrom\u001b[39;00m \u001b[38;5;21;01mlangchain_openai\u001b[39;00m \u001b[38;5;28;01mimport\u001b[39;00m OpenAIEmbeddings\n\u001b[0;32m      4\u001b[0m vectorstore \u001b[38;5;241m=\u001b[39m Chroma\u001b[38;5;241m.\u001b[39mfrom_documents(\n\u001b[0;32m      5\u001b[0m     documents\u001b[38;5;241m=\u001b[39mdocuments, embedding\u001b[38;5;241m=\u001b[39mOpenAIEmbeddings(api_key\u001b[38;5;241m=\u001b[39mapi_key, base_url\u001b[38;5;241m=\u001b[39mbase_url)\n\u001b[0;32m      6\u001b[0m )\n",
      "\u001b[1;31mModuleNotFoundError\u001b[0m: No module named 'langchain_chroma'"
     ]
    }
   ],
   "source": [
    "from langchain_chroma import Chroma\n",
    "from langchain_openai import OpenAIEmbeddings\n",
    "\n",
    "vectorstore = Chroma.from_documents(\n",
    "    documents=documents, embedding=OpenAIEmbeddings(api_key=api_key, base_url=base_url)\n",
    ")"
   ]
  },
  {
   "cell_type": "code",
   "execution_count": 182,
   "metadata": {
    "id": "3tfjpATZCG_i"
   },
   "outputs": [],
   "source": [
    "## 实例化一个只检索第一个结果的向量检索器\n",
    "retriever = vectorstore.as_retriever(search_type=\"similarity\", search_kwargs={\"k\": 1})"
   ]
  },
  {
   "cell_type": "code",
   "execution_count": null,
   "metadata": {},
   "outputs": [],
   "source": [
    "# 测试检索器，检索结果的字符串参考如下代码读取\n",
    "retrieved_docs = retriever.invoke(\"感冒怎么办？\")\n",
    "print(retrieved_docs[0].page_content)"
   ]
  },
  {
   "cell_type": "markdown",
   "metadata": {
    "id": "gQMYBHLXSesX"
   },
   "source": [
    "*编写一个批量检索函数，并将整个参考资料查询助手流程串联起来*"
   ]
  },
  {
   "cell_type": "code",
   "execution_count": 183,
   "metadata": {
    "id": "e9SolQ4dCIVj"
   },
   "outputs": [],
   "source": [
    "# 编写一个批量检索函数，接收一个query列表，返回一个有序的检索结果（字符串）列表\n",
    "def retrieve_batch(queries):\n",
    "    results = []\n",
    "    return 0"
   ]
  },
  {
   "cell_type": "code",
   "execution_count": 184,
   "metadata": {
    "colab": {
     "base_uri": "https://localhost:8080/"
    },
    "id": "HgZnGYPCIAaW",
    "outputId": "9dd2ad5d-e673-42bb-c1c0-aedd3fb08f5b"
   },
   "outputs": [
    {
     "name": "stdout",
     "output_type": "stream",
     "text": [
      "['普通感冒是一种累及鼻和咽喉的疾病。大多数情况下，它是无害的，但可能感觉不是这样。称为病毒的病菌可引起普通感冒。\\n通常，成人每年可能会患两到三次感冒。婴幼儿可能会更频繁地感冒。\\n大多数人患普通感冒后会在 7 天至 10 天内痊愈。吸烟者的症状可能会持续更久。大多数情况下，普通感冒无需医疗护理。如果症状没有好转或恶化，联系医务人员。\\n由病菌引起的鼻和咽喉疾病称为上呼吸道感染。对于儿童。大多数儿童普通感冒不需要联系医务人员。如果孩子出现以下任一情况，请立即就诊：', '健脾，中医名词，指健运脾气的一种治法。适用于脾气虚弱，运化无力所致的脘腹胀满、大便溏泄、食欲不振、肢倦乏力等症。常用方药如参苓白术散．香砂六君子汤等。\\n健脾，也是补法之一。亦称补脾、益脾。治疗脾虚、运化功能减弱的方法。用于面色萎黄、疲倦乏力、少气懒言、食欲不振、食后腹胀、大便溏薄，舌淡苔白，脉缓弱等脾气虚弱证候。常用药如党参、莲子、白术、茯苓、山药、薏苡仁等。方如参苓白术散。', '伪麻美沙芬滴剂是专对无发热症状的婴幼儿感冒而配制的，无严重胃肠刺激过敏反应及其他严重副作用。本复方中盐酸伪麻黄碱为拟肾上腺素药可收缩鼻粘膜血管减轻鼻塞症状；氢溴酸右美沙芬为镇咳药通过抑制延髓咳嗽中枢而产生镇咳作用。']\n"
     ]
    }
   ],
   "source": [
    "#  得到检索句→分割检索句→批量检索，书写LCEL表达式完成个参考资料查询助手流程\n",
    "#  注意使用RunnableLambda包装自定义函数\n",
    "full_retrieve_chain = \n",
    "\n",
    "retrieved_results = full_retrieve_chain.invoke({\"dialogue\": dialogue_text})\n",
    "print(retrieved_results)"
   ]
  },
  {
   "cell_type": "markdown",
   "metadata": {
    "id": "4CumMJiqS9Cw"
   },
   "source": [
    "# 串联前述步骤构建的所有助手Agent，合体成为医疗报告生成助手机器人吧！"
   ]
  },
  {
   "cell_type": "code",
   "execution_count": 192,
   "metadata": {
    "id": "FCn4spoqEVnQ"
   },
   "outputs": [],
   "source": [
    "#### 所需的所有输入变量\n",
    "#  samples: 输入样本\n",
    "#  few_shot_text: 格式化的few_shot样例 （optional）\n",
    "#  dialogue_text: 格式化的测试样本对话\n",
    "#  retriever: 检索器\n",
    "\n",
    "## 将三个助手Agent的链路表达式复制重新声明一次\n",
    "chain1 = \n",
    "chain2 = \n",
    "chain3 = \n",
    "\n",
    "# 报告模板\n",
    "report_template = \"\"\"\n",
    "# 结构化记录\n",
    "\n",
    "{structured_report}\n",
    "\n",
    "# 诊疗总结\n",
    "\n",
    "{summary}\n",
    "\n",
    "# 相关资料\n",
    "\n",
    "{retrieved_results}\n",
    "\"\"\"\n",
    "\n",
    "# 编写函数，将三个助手的最终输出整合至报告模板中。   列表等可使用markdown语法(optional)\n",
    "# 传入参数为一个字典，包含三个助手的输出，字段参考下方调用，分别为structured_report, summary, retrieved_results\n",
    "def merge_report(_dict):\n",
    "\n",
    "    return report\n",
    "\n",
    "full_chain = RunnableLambda(merge_report)\n",
    "report = full_chain.invoke({\n",
    "    \"structured_report\": chain1.invoke({\"few_shot\": few_shot_text, \"dialogue\": dialogue_text}),\n",
    "    # \"structured_report\": chain1.invoke({\"dialogue\": dialogue_text}),\n",
    "    \"summary\": chain2.invoke({\"dialogue\": dialogue_text}),\n",
    "    \"retrieved_results\": chain3.invoke({\"dialogue\": dialogue_text})\n",
    "})"
   ]
  },
  {
   "cell_type": "code",
   "execution_count": 127,
   "metadata": {
    "colab": {
     "base_uri": "https://localhost:8080/",
     "height": 462
    },
    "id": "oXtOBXrvcItN",
    "outputId": "04c77c0f-e60b-4ec9-b43f-5d6f80145d72"
   },
   "outputs": [
    {
     "data": {
      "text/markdown": [
       "\n",
       "# 结构化记录\n",
       "\n",
       "- 主诉: 宝宝6个月，清鼻涕。\n",
       "- 现病史: 患儿6个月，从昨天开始出现清鼻涕，前天晚上至第二天早上未进食，昨天晚上至今天不进食。精神状态良好，大便3天一次，能喝水但不多，未放屁。鼻涕无颜色，多量。无咳嗽、发烧。\n",
       "- 辅助检查: 无。\n",
       "- 既往史: 不详。\n",
       "- 诊断: 感冒。\n",
       "- 建议: 口服伪麻美芬滴剂，配合健脾开胃药调节，使用生理海水喷雾剂缓解鼻塞。观察病情变化。\n",
       "\n",
       "\n",
       "# 诊疗总结\n",
       "\n",
       "医生根据患儿的症状询问了病史，并得出宝宝患有感冒的结论。建议患者可以给宝宝吃感冒药和健脾开胃药来调节，同时还建议使用伪麻美芬滴剂和生理海水喷雾剂来缓解鼻塞。通过诊疗过程，医生对宝宝的病情有了初步的了解，并给出了相应的治疗建议。\n",
       "\n",
       "# 相关资料\n",
       "\n",
       "- 普通感冒是一种累及鼻和咽喉的疾病。大多数情况下，它是无害的，但可能感觉不是这样。称为病毒的病菌可引起普通感冒。\n",
       "通常，成人每年可能会患两到三次感冒。婴幼儿可能会更频繁地感冒。\n",
       "大多数人患普通感冒后会在 7 天至 10 天内痊愈。吸烟者的症状可能会持续更久。大多数情况下，普通感冒无需医疗护理。如果症状没有好转或恶化，联系医务人员。\n",
       "由病菌引起的鼻和咽喉疾病称为上呼吸道感染。对于儿童。大多数儿童普通感冒不需要联系医务人员。如果孩子出现以下任一情况，请立即就诊：\n",
       "- 伪麻美沙芬滴剂是专对无发热症状的婴幼儿感冒而配制的，无严重胃肠刺激过敏反应及其他严重副作用。本复方中盐酸伪麻黄碱为拟肾上腺素药可收缩鼻粘膜血管减轻鼻塞症状；氢溴酸右美沙芬为镇咳药通过抑制延髓咳嗽中枢而产生镇咳作用。\n",
       "\n"
      ],
      "text/plain": [
       "<IPython.core.display.Markdown object>"
      ]
     },
     "metadata": {},
     "output_type": "display_data"
    }
   ],
   "source": [
    "# 展示报告\n",
    "from IPython.display import display, Markdown\n",
    "\n",
    "display(Markdown(report))"
   ]
  }
 ],
 "metadata": {
  "colab": {
   "provenance": []
  },
  "kernelspec": {
   "display_name": "Python 3",
   "name": "python3"
  },
  "language_info": {
   "codemirror_mode": {
    "name": "ipython",
    "version": 3
   },
   "file_extension": ".py",
   "mimetype": "text/x-python",
   "name": "python",
   "nbconvert_exporter": "python",
   "pygments_lexer": "ipython3",
   "version": "3.12.3"
  }
 },
 "nbformat": 4,
 "nbformat_minor": 0
}
